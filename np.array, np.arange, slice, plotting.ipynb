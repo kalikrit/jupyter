{
 "cells": [
  {
   "cell_type": "code",
   "execution_count": 1,
   "metadata": {
    "collapsed": true
   },
   "outputs": [],
   "source": [
    "import matplotlib.pyplot as plt\n",
    "import numpy as np\n",
    "%matplotlib inline"
   ]
  },
  {
   "cell_type": "code",
   "execution_count": 2,
   "metadata": {},
   "outputs": [
    {
     "data": {
      "text/plain": [
       "array([ 1,  7,  2, 17])"
      ]
     },
     "execution_count": 2,
     "metadata": {},
     "output_type": "execute_result"
    }
   ],
   "source": [
    "np.array([1,7,2,17])"
   ]
  },
  {
   "cell_type": "code",
   "execution_count": 3,
   "metadata": {
    "collapsed": true
   },
   "outputs": [],
   "source": [
    "np.ones?"
   ]
  },
  {
   "cell_type": "code",
   "execution_count": 4,
   "metadata": {},
   "outputs": [
    {
     "data": {
      "text/plain": [
       "array([ 1.,  1.,  1.,  1.,  1.])"
      ]
     },
     "execution_count": 4,
     "metadata": {},
     "output_type": "execute_result"
    }
   ],
   "source": [
    "np.ones(5)"
   ]
  },
  {
   "cell_type": "code",
   "execution_count": 9,
   "metadata": {},
   "outputs": [
    {
     "name": "stdout",
     "output_type": "stream",
     "text": [
      "[0 1 2 3 4 5 6 7]\n",
      "[1 2 3 4 5 6 7]\n",
      "[ 1  4  7 10 13]\n",
      "[15 12  9  6  3]\n"
     ]
    }
   ],
   "source": [
    "print(np.arange(8))\n",
    "print(np.arange(1,8))\n",
    "print(np.arange(1,15,3))\n",
    "print(np.arange(15,2,-3))"
   ]
  },
  {
   "cell_type": "code",
   "execution_count": 4,
   "metadata": {},
   "outputs": [
    {
     "data": {
      "text/plain": [
       "[15, 12, 9, 6, 3]"
      ]
     },
     "execution_count": 4,
     "metadata": {},
     "output_type": "execute_result"
    }
   ],
   "source": [
    "list(range(15,2,-3))"
   ]
  },
  {
   "cell_type": "code",
   "execution_count": 14,
   "metadata": {},
   "outputs": [
    {
     "name": "stdout",
     "output_type": "stream",
     "text": [
      "[20 21 22 23 24 25 26 27 28 29]\n",
      "[20 21 22 23 24]\n",
      "[23 24 25]\n",
      "[21 23]\n",
      "[20 23 26 29]\n",
      "29\n",
      "[22 23 24 25 26 27 28]\n",
      "[29 28 27 26 25 24 23]\n",
      "[29 28 27 26 25 24 23 22 21 20]\n"
     ]
    }
   ],
   "source": [
    "# indices\n",
    "x=np.arange(20,30)\n",
    "print(x)\n",
    "print(x[:5])\n",
    "print(x[3:6])\n",
    "print(x[1:5:2])\n",
    "print(x[::3])\n",
    "print(x[-1])\n",
    "print(x[2:-1])\n",
    "print(x[:2:-1])\n",
    "print(x[-1::-1])"
   ]
  },
  {
   "cell_type": "code",
   "execution_count": 18,
   "metadata": {},
   "outputs": [
    {
     "name": "stdout",
     "output_type": "stream",
     "text": [
      "[ 20.  20.  20.  20.  20.  20.  20.  20.  20.  20.]\n",
      "[  7.   7.   7.   7.   7.  20.  20.  20.  20.  20.]\n",
      "[ 40.  42.  44.  46.  48.  20.  20.  20.  20.  20.]\n"
     ]
    }
   ],
   "source": [
    "x = 20*np.ones(10)\n",
    "print(x)\n",
    "x[0:5]=7\n",
    "print(x)\n",
    "x[0:5] = np.arange(40,50,2)\n",
    "print(x)"
   ]
  },
  {
   "cell_type": "code",
   "execution_count": 8,
   "metadata": {},
   "outputs": [
    {
     "name": "stdout",
     "output_type": "stream",
     "text": [
      "[ 0.  0.  0.  0.  0.  0.  0.  0.  0.  0.  0.  0.  0.  0.  0.  0.  0.  0.\n",
      "  0.  0.]\n",
      "[ 10.  10.  10.  10.  10.   0.   0.   0.   0.   0.   0.   0.   0.   0.   0.\n",
      "   0.   0.   0.   0.   0.]\n",
      "[ 10.  10.  10.  10.  10.  12.  14.  16.  18.  20.  22.  24.  26.  28.  30.\n",
      "   0.   0.   0.   0.   0.]\n",
      "[ 10.  10.  10.  10.  10.  12.  14.  16.  18.  20.  22.  24.  26.  28.  30.\n",
      "  30.  30.  30.  30.  30.]\n"
     ]
    },
    {
     "data": {
      "image/png": "[encoded data removed]",
      "text/plain": [
       "<matplotlib.figure.Figure at 0x33c23cfc50>"
      ]
     },
     "metadata": {},
     "output_type": "display_data"
    }
   ],
   "source": [
    "'''\n",
    "exercise 1\n",
    "\n",
    "Create an array of zeros with length 20. Change the first 5 values to 10. \n",
    "Change the next 10 values to a sequence starting at 12 and increasig with steps of 2 to 30 - do this with one command. \n",
    "Set the final 5 values to 30. Plot the value of the array on the yy-axis vs. the index of the array on the xx-axis. \n",
    "Draw vertical dashed lines at x=4x=4 and x=14x=14 (i.e, the section between the dashed lines is where the line increases from 10 to 30). \n",
    "Set the minimum and maximum values of the yy-axis to 8 and 32 using the ylim command.\n",
    "'''\n",
    "\n",
    "x = np.zeros(20)\n",
    "print(x)\n",
    "x[:5]=10\n",
    "print(x)\n",
    "x[5:15]=np.arange(12,31,2)\n",
    "print(x)\n",
    "x[-5:] = 30\n",
    "print(x)\n",
    "plt.plot(x) # по умолчанию синей линией, 'go' - зелеными кружками\n",
    "plt.plot([4,4],[8,32],'k--')\n",
    "plt.plot([14,14],[8,32],'k--')\n",
    "plt.ylim(8,32)\n",
    "plt.xlim(0,18)\n",
    "plt.grid()"
   ]
  },
  {
   "cell_type": "code",
   "execution_count": 24,
   "metadata": {
    "collapsed": true
   },
   "outputs": [],
   "source": [
    "?np.ones()"
   ]
  },
  {
   "cell_type": "code",
   "execution_count": 5,
   "metadata": {},
   "outputs": [
    {
     "name": "stdout",
     "output_type": "stream",
     "text": [
      "[[ 1.  1.  1.  1.]\n",
      " [ 1.  1.  1.  1.]\n",
      " [ 1.  1.  1.  1.]]\n",
      "2\n"
     ]
    }
   ],
   "source": [
    "x = np.ones((3,4)) # 3 rows, 4 cols\n",
    "print(x)\n",
    "print(np.ndim(x))"
   ]
  },
  {
   "cell_type": "code",
   "execution_count": 11,
   "metadata": {},
   "outputs": [
    {
     "name": "stdout",
     "output_type": "stream",
     "text": [
      "[[4 2 3 2]\n",
      " [2 4 3 1]\n",
      " [0 4 1 3]]\n",
      "[[4 2]\n",
      " [3 2]\n",
      " [2 4]\n",
      " [3 1]\n",
      " [0 4]\n",
      " [1 3]]\n",
      "[[4 2 3]\n",
      " [2 2 4]\n",
      " [3 1 0]\n",
      " [4 1 3]]\n",
      "[[4 2 3 2 2 4 3 1 0 4 1 3]]\n"
     ]
    }
   ],
   "source": [
    "x = np.array([[4,2,3,2],\n",
    "             [2,4,3,1],\n",
    "             [0,4,1,3]])\n",
    "print(x) # 3 rows, 4 columns\n",
    "print(np.reshape(x, (6,2))) # 6 rows, 2 columns\n",
    "print(np.reshape(x, (4,3))) # 4 rows, 3 columns\n",
    "print(np.reshape(x, (1,12))) # 1 row, 12 columns"
   ]
  },
  {
   "cell_type": "code",
   "execution_count": 14,
   "metadata": {},
   "outputs": [
    {
     "name": "stdout",
     "output_type": "stream",
     "text": [
      "[[ 0.  0.  0.  0.  0.  0.  0.  0.]\n",
      " [ 0.  0.  0.  0.  0.  0.  0.  0.]\n",
      " [ 0.  0.  0.  0.  0.  0.  0.  0.]]\n",
      "[[ 100.    0.    0.    0.    0.    0.    0.    0.]\n",
      " [   0.    0.    0.    0.  200.  200.  200.  200.]\n",
      " [   0.    0.    0.    0.    0.  400.  400.  400.]]\n"
     ]
    }
   ],
   "source": [
    "x = np.zeros((3,8))\n",
    "print(x)\n",
    "x[0,0] = 100 # первое значение в первом ряду\n",
    "x[1,4:] = 200 # второй ряд, с 4ого значения в 200\n",
    "x[2,-1:4:-1] = 400 # ряд с индексом 2, с конца в обратном порядке по 4 индекс\n",
    "print(x)"
   ]
  },
  {
   "cell_type": "code",
   "execution_count": 19,
   "metadata": {},
   "outputs": [
    {
     "name": "stdout",
     "output_type": "stream",
     "text": [
      "a: [ 4  8 12 16]\n",
      "b: [2 2 4 4]\n",
      "a*b: [ 8 16 48 64]\n",
      "a/b: [ 2.  4.  3.  4.]\n"
     ]
    }
   ],
   "source": [
    "'''\n",
    "Now that we talk about the rows and columns of an array, the math-oriented reader may think that arrays are matrices, \n",
    "or that one-dimensional arrays are vectors. It is crucial to understand that arrays are not vectors or matrices. \n",
    "The multiplication and division of two arrays is term by term.\n",
    "'''\n",
    "a = np.arange(4,20,4)\n",
    "b = np.array([2,2,4,4])\n",
    "print('a:', a)\n",
    "print('b:', b)\n",
    "print('a*b:', a*b)\n",
    "print('a/b:', a/b)"
   ]
  },
  {
   "cell_type": "code",
   "execution_count": 33,
   "metadata": {},
   "outputs": [
    {
     "name": "stdout",
     "output_type": "stream",
     "text": [
      "[[4 2 3 2]\n",
      " [2 4 3 1]\n",
      " [2 4 1 3]\n",
      " [4 1 2 3]]\n",
      "first row: [4 2 3 2]\n",
      "first column: [4 2 2 4]\n",
      "third row: [2 4 1 3]\n",
      "last two columns: [[3 2]\n",
      " [3 1]\n",
      " [1 3]\n",
      " [2 3]]\n",
      "the four values in the upper right hand corner [[3 2]\n",
      " [3 1]]\n",
      "the four values at the center of x [[4 3]\n",
      " [4 1]]\n"
     ]
    }
   ],
   "source": [
    "\"\"\"\n",
    "exercise 2\n",
    "\n",
    "For the array x shown below, write code to print:\n",
    "\n",
    "the first row of x\n",
    "the first column of x\n",
    "the third row of x\n",
    "the last two columns of x\n",
    "the four values in the upper right hand corner of x\n",
    "the four values at the center of x\n",
    "x = np.array([[4, 2, 3, 2], [2, 4, 3, 1], [2, 4, 1, 3], [4, 1, 2, 3]])\n",
    "\"\"\"\n",
    "x = np.array([[4, 2, 3, 2], [2, 4, 3, 1], [2, 4, 1, 3], [4, 1, 2, 3]])\n",
    "print(x)\n",
    "print('first row:', x[0,])\n",
    "print('first column:', x[:,0])\n",
    "print('third row:', x[2,])\n",
    "print('last two columns:', x[:,-2:])\n",
    "print('the four values in the upper right hand corner',x[:2,2:])\n",
    "print('the four values at the center of x', x[1:3,1:3])"
   ]
  },
  {
   "cell_type": "code",
   "execution_count": 34,
   "metadata": {},
   "outputs": [
    {
     "name": "stdout",
     "output_type": "stream",
     "text": [
      "[[8 4 6 2]\n",
      " [4 8 6 2]\n",
      " [4 8 2 6]\n",
      " [8 2 4 6]]\n"
     ]
    },
    {
     "data": {
      "text/plain": [
       "<matplotlib.colorbar.Colorbar at 0x33c24620b8>"
      ]
     },
     "execution_count": 34,
     "metadata": {},
     "output_type": "execute_result"
    },
    {
     "data": {
      "image/png": "[encoded data removed]",
      "text/plain": [
       "<matplotlib.figure.Figure at 0x33c24629b0>"
      ]
     },
     "metadata": {},
     "output_type": "display_data"
    }
   ],
   "source": [
    "# Visualizing two-dimensional arrays\n",
    "x = np.array([[8, 4, 6, 2],\n",
    "              [4, 8, 6, 2],\n",
    "              [4, 8, 2, 6],\n",
    "              [8, 2, 4, 6]])\n",
    "print(x)\n",
    "plt.matshow(x)\n",
    "plt.colorbar(ticks=[2,4,6,8])"
   ]
  },
  {
   "cell_type": "code",
   "execution_count": 35,
   "metadata": {},
   "outputs": [
    {
     "data": {
      "text/plain": [
       "<matplotlib.colorbar.Colorbar at 0x33c2445eb8>"
      ]
     },
     "execution_count": 35,
     "metadata": {},
     "output_type": "execute_result"
    },
    {
     "data": {
      "image/png": "[encoded data removed]",
      "text/plain": [
       "<matplotlib.figure.Figure at 0x33c2445e48>"
      ]
     },
     "metadata": {},
     "output_type": "display_data"
    }
   ],
   "source": [
    "plt.matshow(x,cmap=\"rainbow\")\n",
    "plt.colorbar(ticks=np.arange(2,9,2))"
   ]
  },
  {
   "cell_type": "code",
   "execution_count": 41,
   "metadata": {},
   "outputs": [
    {
     "name": "stdout",
     "output_type": "stream",
     "text": [
      "[[ 4.  4.  4.  4.  4.  3.  3.  3.  3.  3.]\n",
      " [ 4.  4.  4.  4.  4.  3.  3.  3.  3.  3.]\n",
      " [ 4.  4.  4.  4.  4.  3.  3.  3.  3.  3.]\n",
      " [ 4.  4.  4.  4.  4.  3.  3.  3.  3.  3.]\n",
      " [ 4.  4.  4.  4.  4.  3.  3.  3.  3.  3.]\n",
      " [ 1.  1.  1.  1.  1.  2.  2.  2.  2.  2.]\n",
      " [ 1.  1.  1.  1.  1.  2.  2.  2.  2.  2.]\n",
      " [ 1.  1.  1.  1.  1.  2.  2.  2.  2.  2.]\n",
      " [ 1.  1.  1.  1.  1.  2.  2.  2.  2.  2.]\n",
      " [ 1.  1.  1.  1.  1.  2.  2.  2.  2.  2.]]\n"
     ]
    },
    {
     "data": {
      "text/plain": [
       "<matplotlib.colorbar.Colorbar at 0x33c27294e0>"
      ]
     },
     "execution_count": 41,
     "metadata": {},
     "output_type": "execute_result"
    },
    {
     "data": {
      "image/png": "[encoded data removed]",
      "text/plain": [
       "<matplotlib.figure.Figure at 0x33c2489c18>"
      ]
     },
     "metadata": {},
     "output_type": "display_data"
    }
   ],
   "source": [
    "\"\"\"\n",
    "exercise 3\n",
    "\n",
    "Create an array of size 10 by 10. \n",
    "The upper left-hand quadrant of the array should get the value 4, \n",
    "the upper right-hand quadrant the value 3, \n",
    "the lower right-hand quadrant the value 2 and \n",
    "the lower left-hand quadrant the value 1. \n",
    "First create an array of 10 by 10 using the zeros command, then fill each quadrant by specifying the correct index ranges. \n",
    "Note that the first index is the row number. The second index runs from left to right. \n",
    "Visualize the array using matshow. It should give a red, yellow, light blue and dark blue box (clock-wise starting from upper left) when you use the default jet colormap.\n",
    "\"\"\"\n",
    "x = np.zeros((10,10))\n",
    "x[:5,:5] = 4\n",
    "x[:5,5:] = 3\n",
    "x[5:,5:] = 2\n",
    "x[5:,:5] = 1\n",
    "print(x)\n",
    "plt.matshow(x)\n",
    "plt.colorbar(ticks=np.arange(1,5))"
   ]
  },
  {
   "cell_type": "code",
   "execution_count": 58,
   "metadata": {},
   "outputs": [
    {
     "name": "stdout",
     "output_type": "stream",
     "text": [
      "[[ 0.  0.  0.  0.  0.  0.  0.  0.  0.  0.  0.  0.  0.  0.  0.]\n",
      " [ 0.  0.  0.  0.  0.  0.  0.  0.  0.  0.  0.  0.  0.  0.  0.]\n",
      " [ 0. -1. -1. -1. -1. -1. -1.  0.  1.  1.  0.  0.  1.  1.  0.]\n",
      " [ 0. -1. -1. -1. -1. -1. -1.  0.  1.  1.  0.  0.  1.  1.  0.]\n",
      " [ 0.  0.  0. -1. -1.  0.  0.  0.  1.  1.  0.  0.  1.  1.  0.]\n",
      " [ 0.  0.  0. -1. -1.  0.  0.  0.  1.  1.  0.  0.  1.  1.  0.]\n",
      " [ 0.  0.  0. -1. -1.  0.  0.  0.  1.  1.  0.  0.  1.  1.  0.]\n",
      " [ 0.  0.  0. -1. -1.  0.  0.  0.  1.  1.  1.  1.  1.  1.  0.]\n",
      " [ 0.  0.  0. -1. -1.  0.  0.  0.  1.  1.  1.  1.  1.  1.  0.]\n",
      " [ 0.  0.  0.  0.  0.  0.  0.  0.  0.  0.  0.  0.  0.  0.  0.]\n",
      " [ 0.  0.  0.  0.  0.  0.  0.  0.  0.  0.  0.  0.  0.  0.  0.]]\n"
     ]
    },
    {
     "data": {
      "text/plain": [
       "<matplotlib.colorbar.Colorbar at 0x33c243c0b8>"
      ]
     },
     "execution_count": 58,
     "metadata": {},
     "output_type": "execute_result"
    },
    {
     "data": {
      "image/png": "[encoded data removed]",
      "text/plain": [
       "<matplotlib.figure.Figure at 0x33c243cba8>"
      ]
     },
     "metadata": {},
     "output_type": "display_data"
    }
   ],
   "source": [
    "\"\"\"\n",
    "exercise 4\n",
    "\"\"\"\n",
    "x = np.zeros((11,15))\n",
    "x[2:4, 1:7] = -1\n",
    "x[4:9, 3:5] = -1\n",
    "x[2:9, 8:10] = 1\n",
    "x[7:9, 10:12] = 1\n",
    "x[2:9, 12:14] = 1\n",
    "print(x)\n",
    "plt.matshow(x, cmap=\"rainbow\")\n",
    "plt.colorbar(ticks=np.arange(-1,2))"
   ]
  },
  {
   "cell_type": "code",
   "execution_count": 65,
   "metadata": {},
   "outputs": [
    {
     "name": "stdout",
     "output_type": "stream",
     "text": [
      "[0 1 2 3 4]\n",
      "[ True  True  True False False]\n",
      "values less than 3: [0 1 2]\n",
      "[ 0  1  2 11 11]\n"
     ]
    }
   ],
   "source": [
    "a = np.arange(5)\n",
    "print(a)\n",
    "print(a<3)\n",
    "print('values less than 3:',a[a<3])\n",
    "a[a>=3] = 11 # replace values >=3 with 11\n",
    "print(a)"
   ]
  },
  {
   "cell_type": "code",
   "execution_count": 71,
   "metadata": {},
   "outputs": [
    {
     "data": {
      "image/png": "[encoded data removed]",
      "text/plain": [
       "<matplotlib.figure.Figure at 0x33c28436a0>"
      ]
     },
     "metadata": {},
     "output_type": "display_data"
    }
   ],
   "source": [
    "\"\"\"\n",
    "exercise 5\n",
    "\n",
    "Create an array for variable x consisting of 100 values from 0 to 20. \n",
    "Compute y=sin(x) and plot y vs.x with a blue line. \n",
    "Next, replace all values of y that are larger than 0.5 by 0.5, and \n",
    "all values that are smaller than −0.75 by -0.75 \n",
    "and plot x vs. y using a red line on the same graph.\n",
    "\"\"\"\n",
    "x = np.linspace(0,20,100)\n",
    "y = np.sin(x)\n",
    "plt.plot(x,y)\n",
    "y[y>0.5]=0.5\n",
    "y[y<-0.75]=-0.75\n",
    "plt.plot(x,y,'r')\n",
    "plt.grid()"
   ]
  },
  {
   "cell_type": "code",
   "execution_count": 86,
   "metadata": {},
   "outputs": [
    {
     "data": {
      "image/png": "[encoded data removed]",
      "text/plain": [
       "<matplotlib.figure.Figure at 0x33c289feb8>"
      ]
     },
     "metadata": {},
     "output_type": "display_data"
    }
   ],
   "source": [
    "'''\n",
    "exercise 6\n",
    "\n",
    "Create an array for variable xx consisting of 100 points from 0 to 20 and compute y=sin(x). \n",
    "Plot a blue dot for every y that is larger than zero, and a red dot otherwise\n",
    "'''\n",
    "x = np.linspace(0,20,150)\n",
    "y = np.sin(x)\n",
    "plt.plot(x[y>0],y[y>0],'bo')\n",
    "plt.plot(x[y<=0],y[y<=0],'ro')\n",
    "plt.grid()"
   ]
  },
  {
   "cell_type": "code",
   "execution_count": 85,
   "metadata": {},
   "outputs": [
    {
     "data": {
      "image/png": "[encoded data removed]",
      "text/plain": [
       "<matplotlib.figure.Figure at 0x33c3e76550>"
      ]
     },
     "metadata": {},
     "output_type": "display_data"
    }
   ],
   "source": [
    "# Select indices based on multiple conditions\n",
    "x = np.linspace(0,6*np.pi,150)\n",
    "y = np.sin(x)\n",
    "plt.plot(x[(y>0.7)|(y<-0.5)],y[(y>0.7)|(y<-0.5)],'bo')\n",
    "plt.plot(x[(y>-0.5) & (y<0.7)],y[(y>-0.5)&(y<0.7)],'ro')\n",
    "plt.grid()"
   ]
  },
  {
   "cell_type": "code",
   "execution_count": 137,
   "metadata": {},
   "outputs": [
    {
     "data": {
      "image/png": "[encoded data removed]",
      "text/plain": [
       "<matplotlib.figure.Figure at 0x33c4304748>"
      ]
     },
     "metadata": {},
     "output_type": "display_data"
    }
   ],
   "source": [
    "'''\n",
    "exercise 7\n",
    "\n",
    "The file xypoints.dat contains 1000 randomly chosen x,y locations of points; both x and y vary between -10 and 10. \n",
    "Load the data using loadtxt, and store the first row of the array in an array called x and the second row in an array called y. \n",
    "First, plot a red dot for all points. \n",
    "On the same graph, plot a blue dot for all x,y points where x<−2 and −5≤y≤0. \n",
    "Finally, plot a green dot for any point that lies in the circle with center (xc,yc)=(5,0) and with radius R=5. \n",
    "Hint: it may be useful to compute a new array for the radial distance r between any point and the center of the circle using \n",
    "the formula r= √(x−xc)2+(y−yc)2. Use the plt.axis('equal') command to make sure the scales along the two axes are equal \n",
    "and the circular area looks like a circle.\n",
    "'''\n",
    "# создаем массив (2,500) и заполняем его случайными значениями из диапазаона -10,10\n",
    "# x = np.linspace(-10,10,500)\n",
    "# np.random.shuffle(x)\n",
    "# y = np.linspace(-10,10,500)\n",
    "# np.random.shuffle(y)\n",
    "# a = np.zeros((2,500))\n",
    "# a[0]=x\n",
    "# a[1]=y\n",
    "# np.savetxt('data/points.dat',a)\n",
    "x,y = np.loadtxt('data/points.dat')\n",
    "plt.plot(x,y,'ro')\n",
    "plt.plot(x[(x<-2)&(y>=-5)&(y<0)],y[(x<-2)&(y>=-5)&(y<0)],'bo')\n",
    "r = np.sqrt((x-5)**2+(y**2))\n",
    "plt.plot(x[r<5],y[r<5],'go')\n",
    "plt.axis('scaled')\n",
    "plt.grid()"
   ]
  },
  {
   "cell_type": "code",
   "execution_count": 159,
   "metadata": {},
   "outputs": [
    {
     "name": "stdout",
     "output_type": "stream",
     "text": [
      "[  1.   1.   1.   1.   1.  50.  52.  54.  56.  58.]\n"
     ]
    }
   ],
   "source": [
    "'''\n",
    "exercise 8\n",
    "\n",
    "'''\n",
    "x = np.ones(10)\n",
    "x[5:] = np.arange(50, 60, 2)\n",
    "print(x)"
   ]
  },
  {
   "cell_type": "code",
   "execution_count": null,
   "metadata": {
    "collapsed": true
   },
   "outputs": [],
   "source": []
  }
 ],
 "metadata": {
  "kernelspec": {
   "display_name": "Python 3",
   "language": "python",
   "name": "python3"
  },
  "language_info": {
   "codemirror_mode": {
    "name": "ipython",
    "version": 3
   },
   "file_extension": ".py",
   "mimetype": "text/x-python",
   "name": "python",
   "nbconvert_exporter": "python",
   "pygments_lexer": "ipython3",
   "version": "3.6.1"
  }
 },
 "nbformat": 4,
 "nbformat_minor": 2
}
